{
 "cells": [
  {
   "cell_type": "markdown",
   "metadata": {},
   "source": [
    "# Logging with Multiple Loggers\n",
    "* You can create multiple loggers for different parts of your application."
   ]
  },
  {
   "cell_type": "code",
   "execution_count": 2,
   "metadata": {},
   "outputs": [],
   "source": [
    "import logging\n",
    "# Logger 1\n",
    "logger1=logging.getLogger(\"module1\")\n",
    "logger1.setLevel(logging.DEBUG)\n",
    "\n",
    "# Logger 2\n",
    "logger2=logging.getLogger(\"module2\")\n",
    "logger2.setLevel(logging.DEBUG)\n",
    "\n",
    "#Configure Logging Settings\n",
    "logging.basicConfig(\n",
    "    level=logging.DEBUG,\n",
    "    format=\"%(asctime)s-%(name)s-%(levelname)s-%(message)s\",\n",
    "    datefmt=\"%Y-%m-%d %H:%M:%S\"\n",
    ")"
   ]
  },
  {
   "cell_type": "code",
   "execution_count": 3,
   "metadata": {},
   "outputs": [
    {
     "name": "stderr",
     "output_type": "stream",
     "text": [
      "2024-09-02 12:44:07-module1-DEBUG-This is debug message from logger1\n",
      "2024-09-02 12:44:07-module2-WARNING-This is warning message from logger2\n",
      "2024-09-02 12:44:07-module1-INFO-This is information message from logger1\n"
     ]
    }
   ],
   "source": [
    "# Log message with different loggers\n",
    "logger1.debug(\"This is debug message from logger1\")\n",
    "logger2.warning(\"This is warning message from logger2\")\n",
    "logger1.info(\"This is information message from logger1\")"
   ]
  }
 ],
 "metadata": {
  "kernelspec": {
   "display_name": "Python 3",
   "language": "python",
   "name": "python3"
  },
  "language_info": {
   "codemirror_mode": {
    "name": "ipython",
    "version": 3
   },
   "file_extension": ".py",
   "mimetype": "text/x-python",
   "name": "python",
   "nbconvert_exporter": "python",
   "pygments_lexer": "ipython3",
   "version": "3.12.0"
  }
 },
 "nbformat": 4,
 "nbformat_minor": 2
}
