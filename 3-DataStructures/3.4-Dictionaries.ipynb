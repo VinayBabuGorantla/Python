{
 "cells": [
  {
   "cell_type": "markdown",
   "metadata": {},
   "source": [
    "# Dictionaries\n",
    "Video Outline:\n",
    "1. Introduction to Dictionaries\n",
    "2. Creating Dictionaries\n",
    "3. Accessing Dictionary Elements\n",
    "4. Modifying Dictionary Elements\n",
    "5. Dictionary Methods\n",
    "6. Iterating Over Dictionaries\n",
    "7. Nested Dictionaries\n",
    "8. Dictionary Comprehensions\n",
    "9. Practical Examples and Common Errors\n",
    "\n",
    "\n",
    "## Introduction to Dictionaries\n",
    "\n",
    "*Dictionaries are unordered collections of items. They store data in key-value pairs.\n",
    "Keys must be unique and immutable (e.g., strings, numbers, or tuples), while values can be of any type."
   ]
  },
  {
   "cell_type": "code",
   "execution_count": 2,
   "metadata": {},
   "outputs": [
    {
     "name": "stdout",
     "output_type": "stream",
     "text": [
      "{}\n",
      "<class 'dict'>\n"
     ]
    }
   ],
   "source": [
    "empty_dict={}\n",
    "print(empty_dict)\n",
    "print(type(empty_dict))"
   ]
  },
  {
   "cell_type": "code",
   "execution_count": 3,
   "metadata": {},
   "outputs": [
    {
     "data": {
      "text/plain": [
       "{}"
      ]
     },
     "execution_count": 3,
     "metadata": {},
     "output_type": "execute_result"
    }
   ],
   "source": [
    "empty_dict=dict()\n",
    "empty_dict"
   ]
  },
  {
   "cell_type": "code",
   "execution_count": 4,
   "metadata": {},
   "outputs": [
    {
     "name": "stdout",
     "output_type": "stream",
     "text": [
      "{'Name': 'Vinay', 'Age': 31, 'Gender': 'Male'}\n",
      "<class 'dict'>\n"
     ]
    }
   ],
   "source": [
    "student={\"Name\":\"Vinay\",\"Age\":31,\"Gender\":\"Male\"}\n",
    "print(student)\n",
    "print(type(student))"
   ]
  },
  {
   "cell_type": "code",
   "execution_count": 6,
   "metadata": {},
   "outputs": [
    {
     "name": "stdout",
     "output_type": "stream",
     "text": [
      "31\n",
      "Vinay\n"
     ]
    }
   ],
   "source": [
    "# Accessing Dictionary Elements\n",
    "print(student['Age'])\n",
    "print(student['Name'])"
   ]
  },
  {
   "cell_type": "code",
   "execution_count": 9,
   "metadata": {},
   "outputs": [
    {
     "name": "stdout",
     "output_type": "stream",
     "text": [
      "Vinay\n",
      "Male\n",
      "None\n",
      "Not Available\n"
     ]
    }
   ],
   "source": [
    "# Accessing Using get() Method\n",
    "print(student.get('Name'))\n",
    "print(student.get('Gender'))\n",
    "print(student.get('last_name'))\n",
    "print(student.get('last_name',\"Not Available\"))"
   ]
  },
  {
   "cell_type": "markdown",
   "metadata": {},
   "source": [
    "## Modifying Dictionary Elements\n",
    "* Dictionaries are mutable so we can Add, Remove, Modify elements"
   ]
  },
  {
   "cell_type": "code",
   "execution_count": 10,
   "metadata": {},
   "outputs": [
    {
     "name": "stdout",
     "output_type": "stream",
     "text": [
      "{'Name': 'Vinay', 'Age': 31, 'Gender': 'Male'}\n"
     ]
    }
   ],
   "source": [
    "print(student)"
   ]
  },
  {
   "cell_type": "code",
   "execution_count": 11,
   "metadata": {},
   "outputs": [
    {
     "name": "stdout",
     "output_type": "stream",
     "text": [
      "{'Name': 'Vinay', 'Age': 32, 'Gender': 'Male', 'Grade': 'A'}\n"
     ]
    }
   ],
   "source": [
    "student['Age']=32\n",
    "student['Grade']=\"A\"\n",
    "\n",
    "print(student)"
   ]
  },
  {
   "cell_type": "code",
   "execution_count": 12,
   "metadata": {},
   "outputs": [
    {
     "name": "stdout",
     "output_type": "stream",
     "text": [
      "{'Name': 'Vinay', 'Age': 32, 'Gender': 'Male'}\n"
     ]
    }
   ],
   "source": [
    "del student['Grade']\n",
    "print(student)"
   ]
  },
  {
   "cell_type": "code",
   "execution_count": null,
   "metadata": {},
   "outputs": [],
   "source": []
  }
 ],
 "metadata": {
  "kernelspec": {
   "display_name": "Python 3",
   "language": "python",
   "name": "python3"
  },
  "language_info": {
   "codemirror_mode": {
    "name": "ipython",
    "version": 3
   },
   "file_extension": ".py",
   "mimetype": "text/x-python",
   "name": "python",
   "nbconvert_exporter": "python",
   "pygments_lexer": "ipython3",
   "version": "3.12.0"
  }
 },
 "nbformat": 4,
 "nbformat_minor": 2
}
